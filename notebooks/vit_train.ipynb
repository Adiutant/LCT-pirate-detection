{
 "cells": [
  {
   "metadata": {
    "ExecuteTime": {
     "end_time": "2024-06-23T22:06:42.159426Z",
     "start_time": "2024-06-23T22:06:36.093388Z"
    }
   },
   "cell_type": "code",
   "source": [
    "!pip install tf-keras\n",
    "!pip install accelerate -U"
   ],
   "id": "119178607b53404f",
   "outputs": [
    {
     "name": "stdout",
     "output_type": "stream",
     "text": [
      "Requirement already satisfied: tf-keras in e:\\pycharm community edition 2021.1.1\\projects\\lct\\lct-pirate-detection\\venv\\lib\\site-packages (2.16.0)\n",
      "Requirement already satisfied: tensorflow<2.17,>=2.16 in e:\\pycharm community edition 2021.1.1\\projects\\lct\\lct-pirate-detection\\venv\\lib\\site-packages (from tf-keras) (2.16.1)\n",
      "Requirement already satisfied: tensorflow-intel==2.16.1 in e:\\pycharm community edition 2021.1.1\\projects\\lct\\lct-pirate-detection\\venv\\lib\\site-packages (from tensorflow<2.17,>=2.16->tf-keras) (2.16.1)\n",
      "Requirement already satisfied: absl-py>=1.0.0 in e:\\pycharm community edition 2021.1.1\\projects\\lct\\lct-pirate-detection\\venv\\lib\\site-packages (from tensorflow-intel==2.16.1->tensorflow<2.17,>=2.16->tf-keras) (2.1.0)\n",
      "Requirement already satisfied: astunparse>=1.6.0 in e:\\pycharm community edition 2021.1.1\\projects\\lct\\lct-pirate-detection\\venv\\lib\\site-packages (from tensorflow-intel==2.16.1->tensorflow<2.17,>=2.16->tf-keras) (1.6.3)\n",
      "Requirement already satisfied: flatbuffers>=23.5.26 in e:\\pycharm community edition 2021.1.1\\projects\\lct\\lct-pirate-detection\\venv\\lib\\site-packages (from tensorflow-intel==2.16.1->tensorflow<2.17,>=2.16->tf-keras) (24.3.25)\n",
      "Requirement already satisfied: gast!=0.5.0,!=0.5.1,!=0.5.2,>=0.2.1 in e:\\pycharm community edition 2021.1.1\\projects\\lct\\lct-pirate-detection\\venv\\lib\\site-packages (from tensorflow-intel==2.16.1->tensorflow<2.17,>=2.16->tf-keras) (0.5.4)\n",
      "Requirement already satisfied: google-pasta>=0.1.1 in e:\\pycharm community edition 2021.1.1\\projects\\lct\\lct-pirate-detection\\venv\\lib\\site-packages (from tensorflow-intel==2.16.1->tensorflow<2.17,>=2.16->tf-keras) (0.2.0)\n",
      "Requirement already satisfied: h5py>=3.10.0 in e:\\pycharm community edition 2021.1.1\\projects\\lct\\lct-pirate-detection\\venv\\lib\\site-packages (from tensorflow-intel==2.16.1->tensorflow<2.17,>=2.16->tf-keras) (3.11.0)\n",
      "Requirement already satisfied: libclang>=13.0.0 in e:\\pycharm community edition 2021.1.1\\projects\\lct\\lct-pirate-detection\\venv\\lib\\site-packages (from tensorflow-intel==2.16.1->tensorflow<2.17,>=2.16->tf-keras) (18.1.1)\n",
      "Requirement already satisfied: ml-dtypes~=0.3.1 in e:\\pycharm community edition 2021.1.1\\projects\\lct\\lct-pirate-detection\\venv\\lib\\site-packages (from tensorflow-intel==2.16.1->tensorflow<2.17,>=2.16->tf-keras) (0.3.2)\n",
      "Requirement already satisfied: opt-einsum>=2.3.2 in e:\\pycharm community edition 2021.1.1\\projects\\lct\\lct-pirate-detection\\venv\\lib\\site-packages (from tensorflow-intel==2.16.1->tensorflow<2.17,>=2.16->tf-keras) (3.3.0)\n",
      "Requirement already satisfied: packaging in e:\\pycharm community edition 2021.1.1\\projects\\lct\\lct-pirate-detection\\venv\\lib\\site-packages (from tensorflow-intel==2.16.1->tensorflow<2.17,>=2.16->tf-keras) (24.1)\n",
      "Requirement already satisfied: protobuf!=4.21.0,!=4.21.1,!=4.21.2,!=4.21.3,!=4.21.4,!=4.21.5,<5.0.0dev,>=3.20.3 in e:\\pycharm community edition 2021.1.1\\projects\\lct\\lct-pirate-detection\\venv\\lib\\site-packages (from tensorflow-intel==2.16.1->tensorflow<2.17,>=2.16->tf-keras) (4.25.3)\n",
      "Requirement already satisfied: requests<3,>=2.21.0 in e:\\pycharm community edition 2021.1.1\\projects\\lct\\lct-pirate-detection\\venv\\lib\\site-packages (from tensorflow-intel==2.16.1->tensorflow<2.17,>=2.16->tf-keras) (2.32.3)\n",
      "Requirement already satisfied: setuptools in e:\\pycharm community edition 2021.1.1\\projects\\lct\\lct-pirate-detection\\venv\\lib\\site-packages (from tensorflow-intel==2.16.1->tensorflow<2.17,>=2.16->tf-keras) (68.2.0)\n",
      "Requirement already satisfied: six>=1.12.0 in e:\\pycharm community edition 2021.1.1\\projects\\lct\\lct-pirate-detection\\venv\\lib\\site-packages (from tensorflow-intel==2.16.1->tensorflow<2.17,>=2.16->tf-keras) (1.16.0)\n",
      "Requirement already satisfied: termcolor>=1.1.0 in e:\\pycharm community edition 2021.1.1\\projects\\lct\\lct-pirate-detection\\venv\\lib\\site-packages (from tensorflow-intel==2.16.1->tensorflow<2.17,>=2.16->tf-keras) (2.4.0)\n",
      "Requirement already satisfied: typing-extensions>=3.6.6 in e:\\pycharm community edition 2021.1.1\\projects\\lct\\lct-pirate-detection\\venv\\lib\\site-packages (from tensorflow-intel==2.16.1->tensorflow<2.17,>=2.16->tf-keras) (4.12.2)\n",
      "Requirement already satisfied: wrapt>=1.11.0 in e:\\pycharm community edition 2021.1.1\\projects\\lct\\lct-pirate-detection\\venv\\lib\\site-packages (from tensorflow-intel==2.16.1->tensorflow<2.17,>=2.16->tf-keras) (1.16.0)\n",
      "Requirement already satisfied: grpcio<2.0,>=1.24.3 in e:\\pycharm community edition 2021.1.1\\projects\\lct\\lct-pirate-detection\\venv\\lib\\site-packages (from tensorflow-intel==2.16.1->tensorflow<2.17,>=2.16->tf-keras) (1.64.1)\n",
      "Requirement already satisfied: tensorboard<2.17,>=2.16 in e:\\pycharm community edition 2021.1.1\\projects\\lct\\lct-pirate-detection\\venv\\lib\\site-packages (from tensorflow-intel==2.16.1->tensorflow<2.17,>=2.16->tf-keras) (2.16.2)\n",
      "Requirement already satisfied: keras>=3.0.0 in e:\\pycharm community edition 2021.1.1\\projects\\lct\\lct-pirate-detection\\venv\\lib\\site-packages (from tensorflow-intel==2.16.1->tensorflow<2.17,>=2.16->tf-keras) (3.3.3)\n",
      "Requirement already satisfied: tensorflow-io-gcs-filesystem>=0.23.1 in e:\\pycharm community edition 2021.1.1\\projects\\lct\\lct-pirate-detection\\venv\\lib\\site-packages (from tensorflow-intel==2.16.1->tensorflow<2.17,>=2.16->tf-keras) (0.31.0)\n",
      "Requirement already satisfied: numpy<2.0.0,>=1.23.5 in e:\\pycharm community edition 2021.1.1\\projects\\lct\\lct-pirate-detection\\venv\\lib\\site-packages (from tensorflow-intel==2.16.1->tensorflow<2.17,>=2.16->tf-keras) (1.26.4)\n",
      "Requirement already satisfied: wheel<1.0,>=0.23.0 in e:\\pycharm community edition 2021.1.1\\projects\\lct\\lct-pirate-detection\\venv\\lib\\site-packages (from astunparse>=1.6.0->tensorflow-intel==2.16.1->tensorflow<2.17,>=2.16->tf-keras) (0.41.2)\n",
      "Requirement already satisfied: rich in e:\\pycharm community edition 2021.1.1\\projects\\lct\\lct-pirate-detection\\venv\\lib\\site-packages (from keras>=3.0.0->tensorflow-intel==2.16.1->tensorflow<2.17,>=2.16->tf-keras) (13.7.1)\n",
      "Requirement already satisfied: namex in e:\\pycharm community edition 2021.1.1\\projects\\lct\\lct-pirate-detection\\venv\\lib\\site-packages (from keras>=3.0.0->tensorflow-intel==2.16.1->tensorflow<2.17,>=2.16->tf-keras) (0.0.8)\n",
      "Requirement already satisfied: optree in e:\\pycharm community edition 2021.1.1\\projects\\lct\\lct-pirate-detection\\venv\\lib\\site-packages (from keras>=3.0.0->tensorflow-intel==2.16.1->tensorflow<2.17,>=2.16->tf-keras) (0.11.0)\n",
      "Requirement already satisfied: charset-normalizer<4,>=2 in e:\\pycharm community edition 2021.1.1\\projects\\lct\\lct-pirate-detection\\venv\\lib\\site-packages (from requests<3,>=2.21.0->tensorflow-intel==2.16.1->tensorflow<2.17,>=2.16->tf-keras) (3.3.2)\n",
      "Requirement already satisfied: idna<4,>=2.5 in e:\\pycharm community edition 2021.1.1\\projects\\lct\\lct-pirate-detection\\venv\\lib\\site-packages (from requests<3,>=2.21.0->tensorflow-intel==2.16.1->tensorflow<2.17,>=2.16->tf-keras) (3.7)\n",
      "Requirement already satisfied: urllib3<3,>=1.21.1 in e:\\pycharm community edition 2021.1.1\\projects\\lct\\lct-pirate-detection\\venv\\lib\\site-packages (from requests<3,>=2.21.0->tensorflow-intel==2.16.1->tensorflow<2.17,>=2.16->tf-keras) (2.2.2)\n",
      "Requirement already satisfied: certifi>=2017.4.17 in e:\\pycharm community edition 2021.1.1\\projects\\lct\\lct-pirate-detection\\venv\\lib\\site-packages (from requests<3,>=2.21.0->tensorflow-intel==2.16.1->tensorflow<2.17,>=2.16->tf-keras) (2024.6.2)\n",
      "Requirement already satisfied: markdown>=2.6.8 in e:\\pycharm community edition 2021.1.1\\projects\\lct\\lct-pirate-detection\\venv\\lib\\site-packages (from tensorboard<2.17,>=2.16->tensorflow-intel==2.16.1->tensorflow<2.17,>=2.16->tf-keras) (3.6)\n",
      "Requirement already satisfied: tensorboard-data-server<0.8.0,>=0.7.0 in e:\\pycharm community edition 2021.1.1\\projects\\lct\\lct-pirate-detection\\venv\\lib\\site-packages (from tensorboard<2.17,>=2.16->tensorflow-intel==2.16.1->tensorflow<2.17,>=2.16->tf-keras) (0.7.2)\n",
      "Requirement already satisfied: werkzeug>=1.0.1 in e:\\pycharm community edition 2021.1.1\\projects\\lct\\lct-pirate-detection\\venv\\lib\\site-packages (from tensorboard<2.17,>=2.16->tensorflow-intel==2.16.1->tensorflow<2.17,>=2.16->tf-keras) (3.0.3)\n",
      "Requirement already satisfied: MarkupSafe>=2.1.1 in e:\\pycharm community edition 2021.1.1\\projects\\lct\\lct-pirate-detection\\venv\\lib\\site-packages (from werkzeug>=1.0.1->tensorboard<2.17,>=2.16->tensorflow-intel==2.16.1->tensorflow<2.17,>=2.16->tf-keras) (2.1.5)\n",
      "Requirement already satisfied: markdown-it-py>=2.2.0 in e:\\pycharm community edition 2021.1.1\\projects\\lct\\lct-pirate-detection\\venv\\lib\\site-packages (from rich->keras>=3.0.0->tensorflow-intel==2.16.1->tensorflow<2.17,>=2.16->tf-keras) (3.0.0)\n",
      "Requirement already satisfied: pygments<3.0.0,>=2.13.0 in e:\\pycharm community edition 2021.1.1\\projects\\lct\\lct-pirate-detection\\venv\\lib\\site-packages (from rich->keras>=3.0.0->tensorflow-intel==2.16.1->tensorflow<2.17,>=2.16->tf-keras) (2.18.0)\n",
      "Requirement already satisfied: mdurl~=0.1 in e:\\pycharm community edition 2021.1.1\\projects\\lct\\lct-pirate-detection\\venv\\lib\\site-packages (from markdown-it-py>=2.2.0->rich->keras>=3.0.0->tensorflow-intel==2.16.1->tensorflow<2.17,>=2.16->tf-keras) (0.1.2)\n"
     ]
    },
    {
     "name": "stderr",
     "output_type": "stream",
     "text": [
      "\n",
      "[notice] A new release of pip is available: 23.2.1 -> 24.1\n",
      "[notice] To update, run: python.exe -m pip install --upgrade pip\n"
     ]
    },
    {
     "name": "stdout",
     "output_type": "stream",
     "text": [
      "Requirement already satisfied: accelerate in e:\\pycharm community edition 2021.1.1\\projects\\lct\\lct-pirate-detection\\venv\\lib\\site-packages (0.31.0)\n",
      "Requirement already satisfied: numpy>=1.17 in e:\\pycharm community edition 2021.1.1\\projects\\lct\\lct-pirate-detection\\venv\\lib\\site-packages (from accelerate) (1.26.4)\n",
      "Requirement already satisfied: packaging>=20.0 in e:\\pycharm community edition 2021.1.1\\projects\\lct\\lct-pirate-detection\\venv\\lib\\site-packages (from accelerate) (24.1)\n",
      "Requirement already satisfied: psutil in e:\\pycharm community edition 2021.1.1\\projects\\lct\\lct-pirate-detection\\venv\\lib\\site-packages (from accelerate) (6.0.0)\n",
      "Requirement already satisfied: pyyaml in e:\\pycharm community edition 2021.1.1\\projects\\lct\\lct-pirate-detection\\venv\\lib\\site-packages (from accelerate) (6.0.1)\n",
      "Requirement already satisfied: torch>=1.10.0 in e:\\pycharm community edition 2021.1.1\\projects\\lct\\lct-pirate-detection\\venv\\lib\\site-packages (from accelerate) (2.3.1)\n",
      "Requirement already satisfied: huggingface-hub in e:\\pycharm community edition 2021.1.1\\projects\\lct\\lct-pirate-detection\\venv\\lib\\site-packages (from accelerate) (0.23.4)\n",
      "Requirement already satisfied: safetensors>=0.3.1 in e:\\pycharm community edition 2021.1.1\\projects\\lct\\lct-pirate-detection\\venv\\lib\\site-packages (from accelerate) (0.4.3)\n",
      "Requirement already satisfied: filelock in e:\\pycharm community edition 2021.1.1\\projects\\lct\\lct-pirate-detection\\venv\\lib\\site-packages (from torch>=1.10.0->accelerate) (3.15.4)\n",
      "Requirement already satisfied: typing-extensions>=4.8.0 in e:\\pycharm community edition 2021.1.1\\projects\\lct\\lct-pirate-detection\\venv\\lib\\site-packages (from torch>=1.10.0->accelerate) (4.12.2)\n",
      "Requirement already satisfied: sympy in e:\\pycharm community edition 2021.1.1\\projects\\lct\\lct-pirate-detection\\venv\\lib\\site-packages (from torch>=1.10.0->accelerate) (1.12.1)\n",
      "Requirement already satisfied: networkx in e:\\pycharm community edition 2021.1.1\\projects\\lct\\lct-pirate-detection\\venv\\lib\\site-packages (from torch>=1.10.0->accelerate) (3.3)\n",
      "Requirement already satisfied: jinja2 in e:\\pycharm community edition 2021.1.1\\projects\\lct\\lct-pirate-detection\\venv\\lib\\site-packages (from torch>=1.10.0->accelerate) (3.1.4)\n",
      "Requirement already satisfied: fsspec in e:\\pycharm community edition 2021.1.1\\projects\\lct\\lct-pirate-detection\\venv\\lib\\site-packages (from torch>=1.10.0->accelerate) (2024.5.0)\n",
      "Requirement already satisfied: mkl<=2021.4.0,>=2021.1.1 in e:\\pycharm community edition 2021.1.1\\projects\\lct\\lct-pirate-detection\\venv\\lib\\site-packages (from torch>=1.10.0->accelerate) (2021.4.0)\n",
      "Requirement already satisfied: requests in e:\\pycharm community edition 2021.1.1\\projects\\lct\\lct-pirate-detection\\venv\\lib\\site-packages (from huggingface-hub->accelerate) (2.32.3)\n",
      "Requirement already satisfied: tqdm>=4.42.1 in e:\\pycharm community edition 2021.1.1\\projects\\lct\\lct-pirate-detection\\venv\\lib\\site-packages (from huggingface-hub->accelerate) (4.66.4)\n",
      "Requirement already satisfied: intel-openmp==2021.* in e:\\pycharm community edition 2021.1.1\\projects\\lct\\lct-pirate-detection\\venv\\lib\\site-packages (from mkl<=2021.4.0,>=2021.1.1->torch>=1.10.0->accelerate) (2021.4.0)\n",
      "Requirement already satisfied: tbb==2021.* in e:\\pycharm community edition 2021.1.1\\projects\\lct\\lct-pirate-detection\\venv\\lib\\site-packages (from mkl<=2021.4.0,>=2021.1.1->torch>=1.10.0->accelerate) (2021.13.0)\n",
      "Requirement already satisfied: colorama in e:\\pycharm community edition 2021.1.1\\projects\\lct\\lct-pirate-detection\\venv\\lib\\site-packages (from tqdm>=4.42.1->huggingface-hub->accelerate) (0.4.6)\n",
      "Requirement already satisfied: MarkupSafe>=2.0 in e:\\pycharm community edition 2021.1.1\\projects\\lct\\lct-pirate-detection\\venv\\lib\\site-packages (from jinja2->torch>=1.10.0->accelerate) (2.1.5)\n",
      "Requirement already satisfied: charset-normalizer<4,>=2 in e:\\pycharm community edition 2021.1.1\\projects\\lct\\lct-pirate-detection\\venv\\lib\\site-packages (from requests->huggingface-hub->accelerate) (3.3.2)\n",
      "Requirement already satisfied: idna<4,>=2.5 in e:\\pycharm community edition 2021.1.1\\projects\\lct\\lct-pirate-detection\\venv\\lib\\site-packages (from requests->huggingface-hub->accelerate) (3.7)\n",
      "Requirement already satisfied: urllib3<3,>=1.21.1 in e:\\pycharm community edition 2021.1.1\\projects\\lct\\lct-pirate-detection\\venv\\lib\\site-packages (from requests->huggingface-hub->accelerate) (2.2.2)\n",
      "Requirement already satisfied: certifi>=2017.4.17 in e:\\pycharm community edition 2021.1.1\\projects\\lct\\lct-pirate-detection\\venv\\lib\\site-packages (from requests->huggingface-hub->accelerate) (2024.6.2)\n",
      "Requirement already satisfied: mpmath<1.4.0,>=1.1.0 in e:\\pycharm community edition 2021.1.1\\projects\\lct\\lct-pirate-detection\\venv\\lib\\site-packages (from sympy->torch>=1.10.0->accelerate) (1.3.0)\n"
     ]
    },
    {
     "name": "stderr",
     "output_type": "stream",
     "text": [
      "\n",
      "[notice] A new release of pip is available: 23.2.1 -> 24.1\n",
      "[notice] To update, run: python.exe -m pip install --upgrade pip\n"
     ]
    }
   ],
   "execution_count": 1
  },
  {
   "metadata": {
    "ExecuteTime": {
     "end_time": "2024-06-24T05:44:39.449914Z",
     "start_time": "2024-06-24T05:44:39.435915Z"
    }
   },
   "cell_type": "code",
   "source": "print(\"hello\")",
   "id": "20db6f007a004e10",
   "outputs": [
    {
     "name": "stdout",
     "output_type": "stream",
     "text": [
      "hello\n"
     ]
    }
   ],
   "execution_count": 1
  },
  {
   "metadata": {
    "ExecuteTime": {
     "end_time": "2024-06-23T23:00:38.787875Z",
     "start_time": "2024-06-23T22:58:11.856105Z"
    }
   },
   "cell_type": "code",
   "source": "# !pip install torch torchvision torchaudio --index-url https://download.pytorch.org/whl/cu118",
   "id": "6d780b03aaa6aae1",
   "outputs": [
    {
     "name": "stdout",
     "output_type": "stream",
     "text": [
      "^C\n"
     ]
    }
   ],
   "execution_count": 3
  },
  {
   "metadata": {
    "ExecuteTime": {
     "end_time": "2024-06-24T05:46:56.236414Z",
     "start_time": "2024-06-24T05:46:17.886126Z"
    }
   },
   "cell_type": "code",
   "source": [
    "import torch\n",
    "from torch.utils.data import Dataset, DataLoader\n",
    "from transformers import ViTModel, ViTFeatureExtractor, TrainingArguments, Trainer\n",
    "from datasets import load_metric\n",
    "import numpy as np\n",
    "import cv2"
   ],
   "id": "initial_id",
   "outputs": [
    {
     "name": "stdout",
     "output_type": "stream",
     "text": [
      "WARNING:tensorflow:From E:\\PyCharm Community Edition 2021.1.1\\projects\\LCT\\LCT-pirate-detection\\venv\\lib\\site-packages\\tf_keras\\src\\losses.py:2976: The name tf.losses.sparse_softmax_cross_entropy is deprecated. Please use tf.compat.v1.losses.sparse_softmax_cross_entropy instead.\n",
      "\n"
     ]
    }
   ],
   "execution_count": 2
  },
  {
   "metadata": {
    "ExecuteTime": {
     "end_time": "2024-06-24T05:57:28.081208Z",
     "start_time": "2024-06-24T05:57:28.067209Z"
    }
   },
   "cell_type": "code",
   "source": [
    "class CustomImageDataset(Dataset):\n",
    "    def __init__(self, images, labels, feature_extractor):\n",
    "        self.images = images\n",
    "        self.labels = labels\n",
    "        self.feature_extractor = feature_extractor\n",
    "\n",
    "    def __len__(self):\n",
    "        return len(self.images)\n",
    "\n",
    "    def __getitem__(self, idx):\n",
    "        device = torch.device(\"cuda\" if torch.cuda.is_available() else \"cpu\")\n",
    "        image_1 = self.images[idx][0]\n",
    "        image_2 = self.images[idx][1]\n",
    "        label = self.labels[idx]\n",
    "        inputs_1 = self.feature_extractor(images=image_1, return_tensors=\"pt\")\n",
    "        inputs_2 = self.feature_extractor(images=image_2, return_tensors=\"pt\")\n",
    "        return {\n",
    "            \"pixel_values_1\": inputs_1[\"pixel_values\"].squeeze(), \n",
    "            \"pixel_values_2\": inputs_2[\"pixel_values\"].squeeze(),# Remove batch dimension\n",
    "            \"labels\": torch.tensor(label, dtype=torch.long)\n",
    "        }"
   ],
   "id": "688d8f1bf0748494",
   "outputs": [],
   "execution_count": 13
  },
  {
   "metadata": {
    "ExecuteTime": {
     "end_time": "2024-06-24T05:58:14.649107Z",
     "start_time": "2024-06-24T05:58:14.635109Z"
    }
   },
   "cell_type": "code",
   "source": [
    "def extract_frames(path, video_filename):\n",
    "    \n",
    "    # Используем OpenCV для чтения видео\n",
    "    cap = cv2.VideoCapture(path + video_filename)\n",
    "\n",
    "    # Получаем исходную частоту кадров видео\n",
    "    original_fps = cap.get(cv2.CAP_PROP_FPS)\n",
    "\n",
    "    frames = []\n",
    "    frame_count = 0\n",
    "\n",
    "    while cap.isOpened():\n",
    "        ret, frame = cap.read()\n",
    "        if not ret:\n",
    "            break\n",
    "\n",
    "        # Преобразуем кадр из BGR (OpenCV формат) в RGB\n",
    "        frame = cv2.cvtColor(frame, cv2.COLOR_BGR2RGB)\n",
    "\n",
    "        # Изменяем размер кадра до 224x224 (или другого размера по вашему выбору)\n",
    "\n",
    "        frame = cv2.resize(frame, (300, 300))\n",
    "    \n",
    "        # Проверяем, нужно ли сохранить текущий кадр\n",
    "        if frame_count % int(original_fps ) == 0:\n",
    "            frames.append(frame)  # Преобразуем в тензор и меняем порядок осей\n",
    "\n",
    "        frame_count += 1\n",
    "\n",
    "    cap.release()\n",
    "\n",
    "    return np.stack(frames, axis=0)"
   ],
   "id": "b003f70ef372a9a6",
   "outputs": [],
   "execution_count": 14
  },
  {
   "metadata": {
    "ExecuteTime": {
     "end_time": "2024-06-24T05:58:14.665107Z",
     "start_time": "2024-06-24T05:58:14.650108Z"
    }
   },
   "cell_type": "code",
   "source": [
    "import pandas as pd\n",
    "\n",
    "\n",
    "def create_embedding_dataframe(video1_embeddings, video2_embeddings, interval1, interval2):\n",
    "    start1, end1 = map(int, interval1.split('-'))\n",
    "    start2, end2 = map(int, interval2.split('-'))\n",
    "\n",
    "    if (end1 - start1) != (end2 - start2):\n",
    "        raise ValueError(\"Интервалы должны быть одинаковой длины\")\n",
    "\n",
    "    frames1 = []\n",
    "    frames2 = []\n",
    "    is_match = []\n",
    "\n",
    "    # Добавляем совпадающие пары из интервалов\n",
    "    for i in range(end1 - start1):\n",
    "        emb1 = video1_embeddings[start1 + i]\n",
    "        emb2 = video2_embeddings[start2 + i]\n",
    "        \n",
    "        frames1.append(emb1)\n",
    "        frames2.append(emb2)\n",
    "        \n",
    "        is_match.append(1)\n",
    "\n",
    "    total_pairs = end1 - start1 + 1\n",
    "    all_indices_video1 = set(range(len(video1_embeddings)))\n",
    "    all_indices_video2 = set(range(len(video2_embeddings)))\n",
    "    interval_indices_video1 = set(range(start1, end1 + 1))\n",
    "    interval_indices_video2 = set(range(start2, end2 + 1))\n",
    "\n",
    "    non_interval_indices_video1 = list(all_indices_video1 - interval_indices_video1)\n",
    "    non_interval_indices_video2 = list(all_indices_video2 - interval_indices_video2)\n",
    "\n",
    "    if len(non_interval_indices_video1) < total_pairs or len(non_interval_indices_video2) < total_pairs:\n",
    "        raise ValueError(\"Недостаточно элементов вне интервала для создания случайных пар\")\n",
    "\n",
    "    random_pairs_added = 0\n",
    "    while random_pairs_added < total_pairs:\n",
    "        idx1 = np.random.choice(non_interval_indices_video1)\n",
    "        idx2 = np.random.choice(non_interval_indices_video2)\n",
    "\n",
    "        emb1 = video1_embeddings[idx1]\n",
    "        emb2 = video2_embeddings[idx2]\n",
    "\n",
    "        frames1.append(emb1)\n",
    "        frames2.append(emb2)\n",
    "        \n",
    "        is_match.append(0)\n",
    "\n",
    "        random_pairs_added += 1\n",
    "\n",
    "    df_l = pd.DataFrame({\n",
    "        'frames1': frames1,\n",
    "        'frames2' : frames2,\n",
    "        'is_match': is_match\n",
    "    })\n",
    "\n",
    "    df_l = df_l.sample(frac=1).reset_index(drop=True)\n",
    "\n",
    "    return df_l"
   ],
   "id": "d13eee5be57b17c",
   "outputs": [],
   "execution_count": 15
  },
  {
   "metadata": {
    "ExecuteTime": {
     "end_time": "2024-06-24T06:00:02.969254Z",
     "start_time": "2024-06-24T05:58:14.666109Z"
    }
   },
   "cell_type": "code",
   "source": [
    "train_df = pd.DataFrame()\n",
    "df = pd.read_csv(\"piracy_val.csv\")\n",
    "for _,row in df.iterrows():\n",
    "    piracy_ = extract_frames('val/', row[\"ID_piracy\"])\n",
    "    license_ = extract_frames('index/', row[\"ID_license\"])\n",
    "    proxy_df = create_embedding_dataframe(piracy_, license_, row[\"segment\"], row[\"segment.1\"])\n",
    "    train_df = pd.concat([train_df, proxy_df], ignore_index=True)\n",
    "\n",
    "train_df.head(5)"
   ],
   "id": "e66256ea4ecf6963",
   "outputs": [
    {
     "data": {
      "text/plain": [
       "                                             frames1  \\\n",
       "0  [[[130, 156, 162], [132, 155, 162], [136, 157,...   \n",
       "1  [[[6, 0, 238], [6, 0, 238], [6, 0, 238], [6, 0...   \n",
       "2  [[[131, 156, 167], [131, 156, 167], [131, 156,...   \n",
       "3  [[[160, 140, 120], [160, 140, 120], [160, 140,...   \n",
       "4  [[[129, 158, 174], [133, 158, 173], [135, 157,...   \n",
       "\n",
       "                                             frames2  is_match  \n",
       "0  [[[70, 48, 30], [77, 55, 37], [73, 51, 33], [7...         0  \n",
       "1  [[[229, 227, 247], [229, 227, 247], [230, 228,...         0  \n",
       "2  [[[170, 167, 154], [167, 168, 149], [166, 178,...         0  \n",
       "3  [[[194, 194, 202], [194, 194, 202], [196, 196,...         1  \n",
       "4  [[[119, 103, 116], [118, 101, 114], [115, 97, ...         1  "
      ],
      "text/html": [
       "<div>\n",
       "<style scoped>\n",
       "    .dataframe tbody tr th:only-of-type {\n",
       "        vertical-align: middle;\n",
       "    }\n",
       "\n",
       "    .dataframe tbody tr th {\n",
       "        vertical-align: top;\n",
       "    }\n",
       "\n",
       "    .dataframe thead th {\n",
       "        text-align: right;\n",
       "    }\n",
       "</style>\n",
       "<table border=\"1\" class=\"dataframe\">\n",
       "  <thead>\n",
       "    <tr style=\"text-align: right;\">\n",
       "      <th></th>\n",
       "      <th>frames1</th>\n",
       "      <th>frames2</th>\n",
       "      <th>is_match</th>\n",
       "    </tr>\n",
       "  </thead>\n",
       "  <tbody>\n",
       "    <tr>\n",
       "      <th>0</th>\n",
       "      <td>[[[130, 156, 162], [132, 155, 162], [136, 157,...</td>\n",
       "      <td>[[[70, 48, 30], [77, 55, 37], [73, 51, 33], [7...</td>\n",
       "      <td>0</td>\n",
       "    </tr>\n",
       "    <tr>\n",
       "      <th>1</th>\n",
       "      <td>[[[6, 0, 238], [6, 0, 238], [6, 0, 238], [6, 0...</td>\n",
       "      <td>[[[229, 227, 247], [229, 227, 247], [230, 228,...</td>\n",
       "      <td>0</td>\n",
       "    </tr>\n",
       "    <tr>\n",
       "      <th>2</th>\n",
       "      <td>[[[131, 156, 167], [131, 156, 167], [131, 156,...</td>\n",
       "      <td>[[[170, 167, 154], [167, 168, 149], [166, 178,...</td>\n",
       "      <td>0</td>\n",
       "    </tr>\n",
       "    <tr>\n",
       "      <th>3</th>\n",
       "      <td>[[[160, 140, 120], [160, 140, 120], [160, 140,...</td>\n",
       "      <td>[[[194, 194, 202], [194, 194, 202], [196, 196,...</td>\n",
       "      <td>1</td>\n",
       "    </tr>\n",
       "    <tr>\n",
       "      <th>4</th>\n",
       "      <td>[[[129, 158, 174], [133, 158, 173], [135, 157,...</td>\n",
       "      <td>[[[119, 103, 116], [118, 101, 114], [115, 97, ...</td>\n",
       "      <td>1</td>\n",
       "    </tr>\n",
       "  </tbody>\n",
       "</table>\n",
       "</div>"
      ]
     },
     "execution_count": 16,
     "metadata": {},
     "output_type": "execute_result"
    }
   ],
   "execution_count": 16
  },
  {
   "metadata": {
    "ExecuteTime": {
     "end_time": "2024-06-24T06:00:02.985253Z",
     "start_time": "2024-06-24T06:00:02.970254Z"
    }
   },
   "cell_type": "code",
   "source": [
    "def combine_columns_to_numpy(df_l, col1, col2):\n",
    "    combined_list = []\n",
    "    for _, row_l in df_l.iterrows():\n",
    "        combined_array = np.stack((row_l[col1], row_l[col2]), axis=0)\n",
    "        combined_list.append(combined_array)\n",
    "    \n",
    "    return np.array(combined_list)"
   ],
   "id": "e2a1a0a7823069ff",
   "outputs": [],
   "execution_count": 17
  },
  {
   "metadata": {
    "ExecuteTime": {
     "end_time": "2024-06-24T06:00:05.001344Z",
     "start_time": "2024-06-24T06:00:02.986254Z"
    }
   },
   "cell_type": "code",
   "source": [
    "from sklearn.model_selection import train_test_split\n",
    "\n",
    "train_df.fillna(value=0, inplace=True)\n",
    "y = train_df[\"is_match\"].values\n",
    "x = train_df[[\"frames1\", \"frames2\"]]\n",
    "x_train, x_test, y_train, y_test = train_test_split(x, y, train_size=0.8)\n",
    "images = np.array(combine_columns_to_numpy(x_train, \"frames1\", \"frames2\"), dtype=np.float32)\n"
   ],
   "id": "be34db5a87b24c9",
   "outputs": [],
   "execution_count": 18
  },
  {
   "metadata": {
    "ExecuteTime": {
     "end_time": "2024-06-24T06:00:05.016344Z",
     "start_time": "2024-06-24T06:00:05.002344Z"
    }
   },
   "cell_type": "code",
   "source": "print(images.shape)",
   "id": "14c6342c0f4ff725",
   "outputs": [
    {
     "name": "stdout",
     "output_type": "stream",
     "text": [
      "(2754, 2, 300, 300, 3)\n"
     ]
    }
   ],
   "execution_count": 19
  },
  {
   "metadata": {
    "ExecuteTime": {
     "end_time": "2024-06-24T06:00:05.265343Z",
     "start_time": "2024-06-24T06:00:05.017343Z"
    }
   },
   "cell_type": "code",
   "source": [
    "# Пример данных\n",
    "num_samples = 1000\n",
    "num_classes = 2\n",
    "\n",
    "# Загрузчик признаков\n",
    "feature_extractor = ViTFeatureExtractor.from_pretrained('google/vit-base-patch16-224-in21k')\n",
    "\n",
    "# Создание датасета и загрузчика данных\n",
    "dataset = CustomImageDataset(images, y_train, feature_extractor)\n",
    "dataloader = DataLoader(dataset, batch_size=16, shuffle=True)\n"
   ],
   "id": "f640cfe0c2a49ead",
   "outputs": [
    {
     "name": "stderr",
     "output_type": "stream",
     "text": [
      "E:\\PyCharm Community Edition 2021.1.1\\projects\\LCT\\LCT-pirate-detection\\venv\\lib\\site-packages\\transformers\\models\\vit\\feature_extraction_vit.py:28: FutureWarning: The class ViTFeatureExtractor is deprecated and will be removed in version 5 of Transformers. Please use ViTImageProcessor instead.\n",
      "  warnings.warn(\n"
     ]
    }
   ],
   "execution_count": 20
  },
  {
   "metadata": {
    "ExecuteTime": {
     "end_time": "2024-06-24T06:00:06.597993Z",
     "start_time": "2024-06-24T06:00:05.266343Z"
    }
   },
   "cell_type": "code",
   "source": [
    "import torch.nn.functional as F\n",
    "class ViTForImageClassification(torch.nn.Module):\n",
    "    def __init__(self, num_classes=2):\n",
    "        super(ViTForImageClassification, self).__init__()\n",
    "        self.vit = ViTModel.from_pretrained('google/vit-base-patch16-224-in21k')\n",
    "        self.classifier = torch.nn.Linear(self.vit.config.hidden_size * 2, num_classes)\n",
    "\n",
    "    def forward(self, pixel_values_1, pixel_values_2, labels=None):\n",
    "        pixel_values_1 = pixel_values_1.to(device)\n",
    "        pixel_values_2 = pixel_values_2.to(device)\n",
    "        if labels is not None:\n",
    "            labels = labels.to(device)\n",
    "        outputs_1 = self.vit(pixel_values=pixel_values_1)\n",
    "        outputs_2 = self.vit(pixel_values=pixel_values_2)\n",
    "        \n",
    "        # Extract the embeddings of the CLS token from both outputs\n",
    "        cls_embedding_1 = outputs_1.last_hidden_state[:, 0, :]  # CLS token\n",
    "        cls_embedding_2 = outputs_2.last_hidden_state[:, 0, :]  # CLS token\n",
    "        \n",
    "        # Concatenate the embeddings\n",
    "        combined_embeddings = torch.cat((cls_embedding_1, cls_embedding_2), dim=1)\n",
    "        \n",
    "        # Pass the combined embeddings through the classifier\n",
    "        logits = self.classifier(combined_embeddings)\n",
    "        \n",
    "        if labels is not None:\n",
    "            loss = F.cross_entropy(logits, labels)\n",
    "            return loss, logits\n",
    "        \n",
    "        return logits.detach().cpu().numpy()\n",
    "\n",
    "model = ViTForImageClassification()\n",
    "device = torch.device(\"cuda\" if torch.cuda.is_available() else \"cpu\")\n",
    "print(device)\n",
    "model.to(device)\n",
    "# Set up training arguments\n",
    "training_args = TrainingArguments(\n",
    "    output_dir='./results',\n",
    "    num_train_epochs=3,\n",
    "    per_device_train_batch_size=16,\n",
    "    per_device_eval_batch_size=16,\n",
    "    warmup_steps=500,\n",
    "    weight_decay=0.01,\n",
    "    logging_dir='./logs',\n",
    "    logging_steps=10,\n",
    ")\n",
    "\n",
    "# Define accuracy metric\n",
    "metric = load_metric(\"accuracy\", trust_remote_code=True)\n",
    "\n",
    "def compute_metrics(p):\n",
    "    preds = np.argmax(p.predictions, axis=1)\n",
    "    return metric.compute(predictions=preds, references=p.label_ids)\n",
    "\n",
    "# Initialize the Trainer\n",
    "trainer = Trainer(\n",
    "    model=model,\n",
    "    args=training_args,\n",
    "    train_dataset=dataset,\n",
    "    compute_metrics=compute_metrics,\n",
    ")\n"
   ],
   "id": "8ffb5aa574d2de14",
   "outputs": [
    {
     "name": "stdout",
     "output_type": "stream",
     "text": [
      "cuda\n"
     ]
    }
   ],
   "execution_count": 21
  },
  {
   "metadata": {
    "ExecuteTime": {
     "end_time": "2024-06-24T06:04:23.036108Z",
     "start_time": "2024-06-24T06:00:06.598992Z"
    }
   },
   "cell_type": "code",
   "source": "trainer.train()\n",
   "id": "4b79ab92d8713d52",
   "outputs": [
    {
     "name": "stderr",
     "output_type": "stream",
     "text": [
      "E:\\PyCharm Community Edition 2021.1.1\\projects\\LCT\\LCT-pirate-detection\\venv\\lib\\site-packages\\transformers\\models\\vit\\modeling_vit.py:253: UserWarning: 1Torch was not compiled with flash attention. (Triggered internally at ..\\aten\\src\\ATen\\native\\transformers\\cuda\\sdp_utils.cpp:455.)\n",
      "  context_layer = torch.nn.functional.scaled_dot_product_attention(\n"
     ]
    },
    {
     "data": {
      "text/plain": [
       "<IPython.core.display.HTML object>"
      ],
      "text/html": [
       "\n",
       "    <div>\n",
       "      \n",
       "      <progress value='519' max='519' style='width:300px; height:20px; vertical-align: middle;'></progress>\n",
       "      [519/519 04:11, Epoch 3/3]\n",
       "    </div>\n",
       "    <table border=\"1\" class=\"dataframe\">\n",
       "  <thead>\n",
       " <tr style=\"text-align: left;\">\n",
       "      <th>Step</th>\n",
       "      <th>Training Loss</th>\n",
       "    </tr>\n",
       "  </thead>\n",
       "  <tbody>\n",
       "    <tr>\n",
       "      <td>10</td>\n",
       "      <td>0.691600</td>\n",
       "    </tr>\n",
       "    <tr>\n",
       "      <td>20</td>\n",
       "      <td>0.683500</td>\n",
       "    </tr>\n",
       "    <tr>\n",
       "      <td>30</td>\n",
       "      <td>0.693100</td>\n",
       "    </tr>\n",
       "    <tr>\n",
       "      <td>40</td>\n",
       "      <td>0.680700</td>\n",
       "    </tr>\n",
       "    <tr>\n",
       "      <td>50</td>\n",
       "      <td>0.669400</td>\n",
       "    </tr>\n",
       "    <tr>\n",
       "      <td>60</td>\n",
       "      <td>0.663800</td>\n",
       "    </tr>\n",
       "    <tr>\n",
       "      <td>70</td>\n",
       "      <td>0.667100</td>\n",
       "    </tr>\n",
       "    <tr>\n",
       "      <td>80</td>\n",
       "      <td>0.634300</td>\n",
       "    </tr>\n",
       "    <tr>\n",
       "      <td>90</td>\n",
       "      <td>0.631100</td>\n",
       "    </tr>\n",
       "    <tr>\n",
       "      <td>100</td>\n",
       "      <td>0.586700</td>\n",
       "    </tr>\n",
       "    <tr>\n",
       "      <td>110</td>\n",
       "      <td>0.590100</td>\n",
       "    </tr>\n",
       "    <tr>\n",
       "      <td>120</td>\n",
       "      <td>0.580900</td>\n",
       "    </tr>\n",
       "    <tr>\n",
       "      <td>130</td>\n",
       "      <td>0.541800</td>\n",
       "    </tr>\n",
       "    <tr>\n",
       "      <td>140</td>\n",
       "      <td>0.513200</td>\n",
       "    </tr>\n",
       "    <tr>\n",
       "      <td>150</td>\n",
       "      <td>0.465200</td>\n",
       "    </tr>\n",
       "    <tr>\n",
       "      <td>160</td>\n",
       "      <td>0.437400</td>\n",
       "    </tr>\n",
       "    <tr>\n",
       "      <td>170</td>\n",
       "      <td>0.405000</td>\n",
       "    </tr>\n",
       "    <tr>\n",
       "      <td>180</td>\n",
       "      <td>0.335100</td>\n",
       "    </tr>\n",
       "    <tr>\n",
       "      <td>190</td>\n",
       "      <td>0.281500</td>\n",
       "    </tr>\n",
       "    <tr>\n",
       "      <td>200</td>\n",
       "      <td>0.258500</td>\n",
       "    </tr>\n",
       "    <tr>\n",
       "      <td>210</td>\n",
       "      <td>0.231100</td>\n",
       "    </tr>\n",
       "    <tr>\n",
       "      <td>220</td>\n",
       "      <td>0.171800</td>\n",
       "    </tr>\n",
       "    <tr>\n",
       "      <td>230</td>\n",
       "      <td>0.130200</td>\n",
       "    </tr>\n",
       "    <tr>\n",
       "      <td>240</td>\n",
       "      <td>0.144100</td>\n",
       "    </tr>\n",
       "    <tr>\n",
       "      <td>250</td>\n",
       "      <td>0.115000</td>\n",
       "    </tr>\n",
       "    <tr>\n",
       "      <td>260</td>\n",
       "      <td>0.121100</td>\n",
       "    </tr>\n",
       "    <tr>\n",
       "      <td>270</td>\n",
       "      <td>0.091700</td>\n",
       "    </tr>\n",
       "    <tr>\n",
       "      <td>280</td>\n",
       "      <td>0.083200</td>\n",
       "    </tr>\n",
       "    <tr>\n",
       "      <td>290</td>\n",
       "      <td>0.103300</td>\n",
       "    </tr>\n",
       "    <tr>\n",
       "      <td>300</td>\n",
       "      <td>0.078600</td>\n",
       "    </tr>\n",
       "    <tr>\n",
       "      <td>310</td>\n",
       "      <td>0.101600</td>\n",
       "    </tr>\n",
       "    <tr>\n",
       "      <td>320</td>\n",
       "      <td>0.066200</td>\n",
       "    </tr>\n",
       "    <tr>\n",
       "      <td>330</td>\n",
       "      <td>0.044000</td>\n",
       "    </tr>\n",
       "    <tr>\n",
       "      <td>340</td>\n",
       "      <td>0.040600</td>\n",
       "    </tr>\n",
       "    <tr>\n",
       "      <td>350</td>\n",
       "      <td>0.045700</td>\n",
       "    </tr>\n",
       "    <tr>\n",
       "      <td>360</td>\n",
       "      <td>0.069500</td>\n",
       "    </tr>\n",
       "    <tr>\n",
       "      <td>370</td>\n",
       "      <td>0.063000</td>\n",
       "    </tr>\n",
       "    <tr>\n",
       "      <td>380</td>\n",
       "      <td>0.053300</td>\n",
       "    </tr>\n",
       "    <tr>\n",
       "      <td>390</td>\n",
       "      <td>0.040600</td>\n",
       "    </tr>\n",
       "    <tr>\n",
       "      <td>400</td>\n",
       "      <td>0.030600</td>\n",
       "    </tr>\n",
       "    <tr>\n",
       "      <td>410</td>\n",
       "      <td>0.023700</td>\n",
       "    </tr>\n",
       "    <tr>\n",
       "      <td>420</td>\n",
       "      <td>0.029300</td>\n",
       "    </tr>\n",
       "    <tr>\n",
       "      <td>430</td>\n",
       "      <td>0.048900</td>\n",
       "    </tr>\n",
       "    <tr>\n",
       "      <td>440</td>\n",
       "      <td>0.018400</td>\n",
       "    </tr>\n",
       "    <tr>\n",
       "      <td>450</td>\n",
       "      <td>0.017000</td>\n",
       "    </tr>\n",
       "    <tr>\n",
       "      <td>460</td>\n",
       "      <td>0.038900</td>\n",
       "    </tr>\n",
       "    <tr>\n",
       "      <td>470</td>\n",
       "      <td>0.016200</td>\n",
       "    </tr>\n",
       "    <tr>\n",
       "      <td>480</td>\n",
       "      <td>0.040700</td>\n",
       "    </tr>\n",
       "    <tr>\n",
       "      <td>490</td>\n",
       "      <td>0.038800</td>\n",
       "    </tr>\n",
       "    <tr>\n",
       "      <td>500</td>\n",
       "      <td>0.020500</td>\n",
       "    </tr>\n",
       "    <tr>\n",
       "      <td>510</td>\n",
       "      <td>0.024700</td>\n",
       "    </tr>\n",
       "  </tbody>\n",
       "</table><p>"
      ]
     },
     "metadata": {},
     "output_type": "display_data"
    },
    {
     "data": {
      "text/plain": [
       "TrainOutput(global_step=519, training_loss=0.25449335842118787, metrics={'train_runtime': 256.238, 'train_samples_per_second': 32.243, 'train_steps_per_second': 2.025, 'total_flos': 0.0, 'train_loss': 0.25449335842118787, 'epoch': 3.0})"
      ]
     },
     "execution_count": 22,
     "metadata": {},
     "output_type": "execute_result"
    }
   ],
   "execution_count": 22
  },
  {
   "metadata": {
    "ExecuteTime": {
     "end_time": "2024-06-24T06:10:52.364Z",
     "start_time": "2024-06-24T06:10:37.833367Z"
    }
   },
   "cell_type": "code",
   "source": [
    "# Пример данных для тестирования\n",
    "images_test = np.array(combine_columns_to_numpy(x_test, \"frames1\", \"frames2\"), dtype=np.float32)\n",
    "test_dataset = CustomImageDataset(images_test, y_test, feature_extractor)\n",
    "test_dataloader = DataLoader(test_dataset, batch_size=16, shuffle=True)\n",
    "\n",
    "\n",
    "trainer.evaluate(test_dataset)\n"
   ],
   "id": "38cb5a40db561dcd",
   "outputs": [
    {
     "data": {
      "text/plain": [
       "<IPython.core.display.HTML object>"
      ],
      "text/html": [
       "\n",
       "    <div>\n",
       "      \n",
       "      <progress value='44' max='44' style='width:300px; height:20px; vertical-align: middle;'></progress>\n",
       "      [44/44 00:12]\n",
       "    </div>\n",
       "    "
      ]
     },
     "metadata": {},
     "output_type": "display_data"
    },
    {
     "data": {
      "text/plain": [
       "{'eval_loss': 0.05075128749012947,\n",
       " 'eval_accuracy': 0.9869375907111756,\n",
       " 'eval_runtime': 13.8442,\n",
       " 'eval_samples_per_second': 49.768,\n",
       " 'eval_steps_per_second': 3.178,\n",
       " 'epoch': 3.0}"
      ]
     },
     "execution_count": 27,
     "metadata": {},
     "output_type": "execute_result"
    }
   ],
   "execution_count": 27
  },
  {
   "metadata": {
    "ExecuteTime": {
     "end_time": "2024-06-24T06:06:19.100104Z",
     "start_time": "2024-06-24T06:06:19.018103Z"
    }
   },
   "cell_type": "code",
   "source": "# model.save_pretrained('./saved_model')",
   "id": "31f79dc80ed3aa0",
   "outputs": [
    {
     "ename": "AttributeError",
     "evalue": "'ViTForImageClassification' object has no attribute 'save_pretrained'",
     "output_type": "error",
     "traceback": [
      "\u001B[1;31m---------------------------------------------------------------------------\u001B[0m",
      "\u001B[1;31mAttributeError\u001B[0m                            Traceback (most recent call last)",
      "Cell \u001B[1;32mIn[24], line 1\u001B[0m\n\u001B[1;32m----> 1\u001B[0m \u001B[43mmodel\u001B[49m\u001B[38;5;241;43m.\u001B[39;49m\u001B[43msave_pretrained\u001B[49m(\u001B[38;5;124m'\u001B[39m\u001B[38;5;124m./saved_model\u001B[39m\u001B[38;5;124m'\u001B[39m)\n",
      "File \u001B[1;32mE:\\PyCharm Community Edition 2021.1.1\\projects\\LCT\\LCT-pirate-detection\\venv\\lib\\site-packages\\torch\\nn\\modules\\module.py:1709\u001B[0m, in \u001B[0;36mModule.__getattr__\u001B[1;34m(self, name)\u001B[0m\n\u001B[0;32m   1707\u001B[0m     \u001B[38;5;28;01mif\u001B[39;00m name \u001B[38;5;129;01min\u001B[39;00m modules:\n\u001B[0;32m   1708\u001B[0m         \u001B[38;5;28;01mreturn\u001B[39;00m modules[name]\n\u001B[1;32m-> 1709\u001B[0m \u001B[38;5;28;01mraise\u001B[39;00m \u001B[38;5;167;01mAttributeError\u001B[39;00m(\u001B[38;5;124mf\u001B[39m\u001B[38;5;124m\"\u001B[39m\u001B[38;5;124m'\u001B[39m\u001B[38;5;132;01m{\u001B[39;00m\u001B[38;5;28mtype\u001B[39m(\u001B[38;5;28mself\u001B[39m)\u001B[38;5;241m.\u001B[39m\u001B[38;5;18m__name__\u001B[39m\u001B[38;5;132;01m}\u001B[39;00m\u001B[38;5;124m'\u001B[39m\u001B[38;5;124m object has no attribute \u001B[39m\u001B[38;5;124m'\u001B[39m\u001B[38;5;132;01m{\u001B[39;00mname\u001B[38;5;132;01m}\u001B[39;00m\u001B[38;5;124m'\u001B[39m\u001B[38;5;124m\"\u001B[39m)\n",
      "\u001B[1;31mAttributeError\u001B[0m: 'ViTForImageClassification' object has no attribute 'save_pretrained'"
     ]
    }
   ],
   "execution_count": 24
  },
  {
   "metadata": {
    "ExecuteTime": {
     "end_time": "2024-06-24T06:07:33.136620Z",
     "start_time": "2024-06-24T06:07:32.745618Z"
    }
   },
   "cell_type": "code",
   "source": "torch.save(model.state_dict(), 'vit_weights.pth')",
   "id": "ffe7c2015fb5ed2c",
   "outputs": [],
   "execution_count": 25
  },
  {
   "metadata": {},
   "cell_type": "code",
   "outputs": [],
   "execution_count": null,
   "source": [
    "model = ViTForImageClassification()  \n",
    "model.load_state_dict(torch.load('model_weights.pth'))\n",
    "model.eval()"
   ],
   "id": "91a2b842330d961a"
  }
 ],
 "metadata": {
  "kernelspec": {
   "display_name": "Python 3",
   "language": "python",
   "name": "python3"
  },
  "language_info": {
   "codemirror_mode": {
    "name": "ipython",
    "version": 2
   },
   "file_extension": ".py",
   "mimetype": "text/x-python",
   "name": "python",
   "nbconvert_exporter": "python",
   "pygments_lexer": "ipython2",
   "version": "2.7.6"
  }
 },
 "nbformat": 4,
 "nbformat_minor": 5
}
